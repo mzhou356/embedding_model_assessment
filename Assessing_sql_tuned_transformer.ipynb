{
 "cells": [
  {
   "cell_type": "markdown",
   "id": "8093f802-abb1-4e78-948d-c150acda756b",
   "metadata": {},
   "source": [
    "## The purprose of this notebook is to research on [huggingface sql embedding mode](https://huggingface.co/s2593817/sft-sql-embedding)  \n",
    "* The main objective is to assess how well this model can provide an accurate cosine similarity score between two sql queries.\n",
    "* We will compare this with continuous_eval sql metrics score and SequenceMatcher from difflib "
   ]
  },
  {
   "cell_type": "code",
   "execution_count": 14,
   "id": "fb6c5f10-0433-4b08-b048-3c4c6c3f7d2b",
   "metadata": {},
   "outputs": [],
   "source": [
    "from sentence_transformers import SentenceTransformer\n",
    "import numpy as np\n",
    "from difflib import SequenceMatcher\n",
    "from continuous_eval.metrics.code.sql import SQLASTSimilarity"
   ]
  },
  {
   "cell_type": "code",
   "execution_count": 15,
   "id": "1cde5850-df83-47a9-84d4-c37d62588b7a",
   "metadata": {},
   "outputs": [],
   "source": [
    "embedding_model = SentenceTransformer(\"s2593817/sft-sql-embedding\")\n",
    "SQLAST_METRIC = SQLASTSimilarity()"
   ]
  },
  {
   "cell_type": "code",
   "execution_count": 19,
   "id": "f036c245-4e82-462a-8160-af00401dea72",
   "metadata": {},
   "outputs": [],
   "source": [
    "def calculate_cosine_similarity(query_a:str, query_b:str) -> float:\n",
    "    embeddings = embedding_model.encode([query_a, query_b])\n",
    "    cosine_similarity_score = embedding_model.similarity(embeddings, embeddings)\n",
    "    return cosine_similarity_score[0][1]\n",
    "\n",
    "def calculate_sequence_matcher_similarity(query_a:str, query_b:str) -> float:\n",
    "    return SequenceMatcher(None, query_a, query_b).ratio()\n",
    "\n",
    "def calculate_sql_ast_similarity(query_a: str, query_b: str) -> float:\n",
    "    return SQLAST_METRIC.compute(answer=query_a, ground_truth_answers=query_b)[\"SQL_AST_Similarity\"]\n",
    "\n",
    "def compare_scores(query_a: str, query_b: str) -> None:\n",
    "    cosine_similarity_score = calculate_cosine_similarity(query_a, query_b)\n",
    "    sequence_matcher_score = calculate_sequence_matcher_similarity(query_a, query_b)\n",
    "    sql_ast_metric = calculate_sql_ast_similarity(query_a, query_b)\n",
    "    print(f\"cosine similarity score: {cosine_similarity_score}\\n\")\n",
    "    print(f\"sequence matcher similarity score: {sequence_matcher_score}\\n\")\n",
    "    print(f\"SQL AST metric score: {sql_ast_metric}\\n\")"
   ]
  },
  {
   "cell_type": "markdown",
   "id": "1198df79-6285-44af-92c0-4c6388da9f18",
   "metadata": {},
   "source": [
    "## Compare when two queries are different (Negative Cases)"
   ]
  },
  {
   "cell_type": "markdown",
   "id": "6cc0581b-e6cc-4831-bec4-01c7e879ceb2",
   "metadata": {},
   "source": [
    "## completely different queries"
   ]
  },
  {
   "cell_type": "code",
   "execution_count": 24,
   "id": "65cd65b9-6b35-41fb-8421-2c0b405ebbcf",
   "metadata": {},
   "outputs": [
    {
     "name": "stdout",
     "output_type": "stream",
     "text": [
      "cosine similarity score: 0.2638276219367981\n",
      "\n",
      "sequence matcher similarity score: 0.46078431372549017\n",
      "\n",
      "SQL AST metric score: 0.43181818181818177\n",
      "\n"
     ]
    }
   ],
   "source": [
    "query_a = \"\"\"\n",
    "SELECT\n",
    "    age,\n",
    "    hire_date,\n",
    "    department,\n",
    "    tenure\n",
    "FROM\n",
    "    employee_table\n",
    "QUALIFY max(salary) over (partition by hire_date) = salary\n",
    "\"\"\"\n",
    "\n",
    "query_b = \"\"\"\n",
    "SELECT\n",
    "    max(salary)\n",
    "FROM \n",
    "    employee_table\n",
    "GROUP BY age\n",
    "\"\"\"\n",
    "compare_scores(query_a, query_b)"
   ]
  },
  {
   "cell_type": "code",
   "execution_count": 25,
   "id": "874d5bc2-6a83-44c6-b668-964f3c69a357",
   "metadata": {},
   "outputs": [
    {
     "name": "stdout",
     "output_type": "stream",
     "text": [
      "cosine similarity score: 0.40218862891197205\n",
      "\n",
      "sequence matcher similarity score: 0.5149700598802395\n",
      "\n",
      "SQL AST metric score: -0.5\n",
      "\n"
     ]
    }
   ],
   "source": [
    "query_a = \"\"\"\n",
    "SELECT\n",
    "    DISTINCT ACCOUNT_ID\n",
    "FROM \n",
    "    transactions\n",
    "WHERE\n",
    "    TRANSACTION_DATE > '2025-07-01'\n",
    "\"\"\"\n",
    "\n",
    "query_b = \"\"\"\n",
    "SELECT\n",
    "    * \n",
    "FROM \n",
    "    accounting\n",
    "WHERE\n",
    "    application IS NOT NULL\n",
    "\"\"\"\n",
    "compare_scores(query_a, query_b)"
   ]
  },
  {
   "cell_type": "markdown",
   "id": "de28a540-e10c-49d0-b52c-d1c42ae48051",
   "metadata": {},
   "source": [
    "### check for Subtle differences in filtering and column name differences"
   ]
  },
  {
   "cell_type": "code",
   "execution_count": 49,
   "id": "33ca223b-a97f-48f7-b613-a04998ae734f",
   "metadata": {},
   "outputs": [
    {
     "name": "stdout",
     "output_type": "stream",
     "text": [
      "cosine similarity score: 0.9975489974021912\n",
      "\n",
      "sequence matcher similarity score: 0.9896907216494846\n",
      "\n",
      "SQL AST metric score: 0.75\n",
      "\n",
      "cosine similarity score: 0.9954880475997925\n",
      "\n",
      "sequence matcher similarity score: 0.9948717948717949\n",
      "\n",
      "SQL AST metric score: 0.75\n",
      "\n",
      "cosine similarity score: 0.9972676634788513\n",
      "\n",
      "sequence matcher similarity score: 0.9948717948717949\n",
      "\n",
      "SQL AST metric score: 0.75\n",
      "\n"
     ]
    }
   ],
   "source": [
    "query_a = \"\"\"\n",
    "SELECT\n",
    "    DISTINCT ACCOUNT_ID\n",
    "FROM \n",
    "    transactions\n",
    "WHERE\n",
    "    TRANSACTION_DATE > '2025-07-01'\n",
    "\"\"\"\n",
    "\n",
    "query_b = \"\"\"\n",
    "SELECT\n",
    "    DISTINCT ACCOUNT_ID\n",
    "FROM \n",
    "    transactions\n",
    "WHERE\n",
    "    TRANSACTION_DATE < '2025-07-01'\n",
    "\"\"\"\n",
    "\n",
    "query_c = \"\"\"\n",
    "SELECT\n",
    "    DISTINCT ACCOUNT_ID\n",
    "FROM \n",
    "    transactions\n",
    "WHERE\n",
    "    TRANSACTION_DATE <> '2025-07-01'\n",
    "\"\"\"\n",
    "compare_scores(query_a, query_b)\n",
    "compare_scores(query_a, query_c)\n",
    "compare_scores(query_b, query_c)"
   ]
  },
  {
   "cell_type": "code",
   "execution_count": 51,
   "id": "ac4325be-2aac-4b4d-ba13-038930699ba2",
   "metadata": {
    "scrolled": true
   },
   "outputs": [
    {
     "name": "stdout",
     "output_type": "stream",
     "text": [
      "cosine similarity score: 0.9711019992828369\n",
      "\n",
      "sequence matcher similarity score: 0.7713004484304933\n",
      "\n",
      "SQL AST metric score: 0.1875\n",
      "\n"
     ]
    }
   ],
   "source": [
    "query_a = \"\"\"\n",
    "SELECT\n",
    "    department\n",
    "FROM\n",
    "    employee_table\n",
    "QUALIFY max(salary) over (partition by hire_date) = salary\n",
    "\"\"\"\n",
    "query_b = \"\"\"\n",
    "SELECT\n",
    "    employee_name \n",
    "FROM\n",
    "    employee_table\n",
    "QUALIFY max(hire_date) over (partition by department) = hire_date\n",
    "\"\"\"\n",
    "compare_scores(query_a, query_b)"
   ]
  },
  {
   "cell_type": "markdown",
   "id": "1baaed4b-5e77-4d50-8def-5f7542373e62",
   "metadata": {},
   "source": [
    "### Check for Similar Queries"
   ]
  },
  {
   "cell_type": "markdown",
   "id": "0dda43f2-904a-48b1-a874-6cf4827511ca",
   "metadata": {},
   "source": [
    "### seq changes "
   ]
  },
  {
   "cell_type": "code",
   "execution_count": 31,
   "id": "3906f54c-9d35-4a76-ac12-957d87a18e88",
   "metadata": {},
   "outputs": [
    {
     "name": "stdout",
     "output_type": "stream",
     "text": [
      "cosine similarity score: 0.995932400226593\n",
      "\n",
      "sequence matcher similarity score: 0.7534246575342466\n",
      "\n",
      "SQL AST metric score: 0.9047619047619048\n",
      "\n"
     ]
    }
   ],
   "source": [
    "query_a = \"\"\"\n",
    "SELECT \n",
    "    log_date,\n",
    "    device_name,\n",
    "    department,\n",
    "    application_name,\n",
    "    device_id\n",
    "FROM\n",
    "    device_tracking\n",
    "ORDER BY log_date, device_id\n",
    "\"\"\"\n",
    "query_b = \"\"\"\n",
    "SELECT \n",
    "    device_id,\n",
    "    device_name,\n",
    "    application_name,\n",
    "    department,\n",
    "    log_date\n",
    "FROM\n",
    "    device_tracking\n",
    "ORDER BY device_id, log_date\n",
    "\"\"\"\n",
    "compare_scores(query_a, query_b)"
   ]
  },
  {
   "cell_type": "markdown",
   "id": "24573787-8d00-4749-a7e8-0aba0ee78fb2",
   "metadata": {},
   "source": [
    "### Aliases"
   ]
  },
  {
   "cell_type": "code",
   "execution_count": 36,
   "id": "9f5477e4-4f35-4d91-ab8a-117d9ecfe37d",
   "metadata": {},
   "outputs": [
    {
     "name": "stdout",
     "output_type": "stream",
     "text": [
      "cosine similarity score: 0.8188620209693909\n",
      "\n",
      "sequence matcher similarity score: 0.5376884422110553\n",
      "\n",
      "SQL AST metric score: 0.10606060606060608\n",
      "\n",
      "cosine similarity score: 0.5447807312011719\n",
      "\n",
      "sequence matcher similarity score: 0.6076696165191741\n",
      "\n",
      "SQL AST metric score: 0.25757575757575757\n",
      "\n",
      "cosine similarity score: 0.898712694644928\n",
      "\n",
      "sequence matcher similarity score: 0.7962382445141066\n",
      "\n",
      "SQL AST metric score: 0.52\n",
      "\n"
     ]
    }
   ],
   "source": [
    "query_a = \"\"\"\n",
    "SELECT \n",
    "    tbl.log_date as \"log date\",\n",
    "    tbl.device_name as \"device name\",\n",
    "    tbl.department,\n",
    "    tbl.application_name,\n",
    "    tbl.device_id as \"device id\"\n",
    "FROM\n",
    "    device_tracking as tbl\n",
    "GROUP BY 1,2,3,4,5\n",
    "\"\"\"\n",
    "query_b = \"\"\"\n",
    "SELECT \n",
    "    device_id,\n",
    "    device_name,\n",
    "    application_name,\n",
    "    department,\n",
    "    log_date\n",
    "FROM\n",
    "    device_tracking\n",
    "GROUP BY device_id, device_name, application_name, department, log_date\n",
    "\"\"\"\n",
    "query_c = \"\"\"\n",
    "SELECT \n",
    "    device_id,\n",
    "    device_name,\n",
    "    application_name,\n",
    "    department,\n",
    "    log_date\n",
    "FROM\n",
    "    device_tracking\n",
    "GROUP BY ALL\n",
    "\"\"\"\n",
    "compare_scores(query_a, query_b)\n",
    "compare_scores(query_a, query_c)\n",
    "compare_scores(query_b, query_c)"
   ]
  },
  {
   "cell_type": "markdown",
   "id": "286df1f6-2de2-4865-ba01-00db427d4939",
   "metadata": {},
   "source": [
    "### check for sql dialects: date function and subquery/cte/qualify"
   ]
  },
  {
   "cell_type": "code",
   "execution_count": 38,
   "id": "d495fcdb-2ed6-49b0-b49b-e5853bfe5363",
   "metadata": {},
   "outputs": [
    {
     "name": "stdout",
     "output_type": "stream",
     "text": [
      "cosine similarity score: 0.9567475914955139\n",
      "\n",
      "sequence matcher similarity score: 0.910828025477707\n",
      "\n",
      "SQL AST metric score: 0.675\n",
      "\n"
     ]
    }
   ],
   "source": [
    "query_a = \"\"\"\n",
    "SELECT\n",
    "    customer_name,\n",
    "    create_date,\n",
    "    last_login_time\n",
    "FROM \n",
    "    customers \n",
    "WHERE \n",
    "    last_login_time >= '2025-07-11' and last_login_time <= '2025-07-15'\n",
    "\"\"\"\n",
    "\n",
    "query_b = \"\"\"\n",
    "SELECT\n",
    "    customer_name,\n",
    "    create_date,\n",
    "    last_login_time\n",
    "FROM \n",
    "    customers \n",
    "WHERE \n",
    "    last_login_time BETWEEN '2025-07-11' and '2025-07-15'\n",
    "\"\"\"\n",
    "compare_scores(query_a, query_b)"
   ]
  },
  {
   "cell_type": "code",
   "execution_count": 41,
   "id": "bb83cb23-2d5d-4b99-b2aa-74a6ac09fb8d",
   "metadata": {},
   "outputs": [
    {
     "name": "stdout",
     "output_type": "stream",
     "text": [
      "cosine similarity score: 0.8955351710319519\n",
      "\n",
      "sequence matcher similarity score: 0.8701754385964913\n",
      "\n",
      "SQL AST metric score: 0.2894736842105263\n",
      "\n",
      "cosine similarity score: 0.9147263169288635\n",
      "\n",
      "sequence matcher similarity score: 0.8896797153024911\n",
      "\n",
      "SQL AST metric score: 0.2894736842105263\n",
      "\n",
      "cosine similarity score: 0.8297773599624634\n",
      "\n",
      "sequence matcher similarity score: 0.822742474916388\n",
      "\n",
      "SQL AST metric score: 0.0714285714285714\n",
      "\n",
      "cosine similarity score: 0.9436810612678528\n",
      "\n",
      "sequence matcher similarity score: 0.9060402684563759\n",
      "\n",
      "SQL AST metric score: 0.7631578947368421\n",
      "\n",
      "cosine similarity score: 0.9057097434997559\n",
      "\n",
      "sequence matcher similarity score: 0.8481012658227848\n",
      "\n",
      "SQL AST metric score: 0.5714285714285714\n",
      "\n",
      "cosine similarity score: 0.9116183519363403\n",
      "\n",
      "sequence matcher similarity score: 0.9294871794871795\n",
      "\n",
      "SQL AST metric score: 0.7619047619047619\n",
      "\n"
     ]
    }
   ],
   "source": [
    "query_a = \"\"\"\n",
    "SELECT\n",
    "    customer_name,\n",
    "    create_date,\n",
    "    last_login_time\n",
    "FROM \n",
    "    customers \n",
    "WHERE \n",
    "    last_login_time >= TRUNC(SYSDATE) - 7\n",
    "\"\"\"\n",
    "\n",
    "query_b = \"\"\"\n",
    "SELECT\n",
    "    customer_name,\n",
    "    create_date,\n",
    "    last_login_time\n",
    "FROM \n",
    "    customers \n",
    "WHERE \n",
    "    last_login_time >= DATE_SUB(CURDATE(), INTERVAL 7 DAY)\n",
    "\"\"\"\n",
    "\n",
    "query_c = \"\"\"\n",
    "SELECT\n",
    "    customer_name,\n",
    "    create_date,\n",
    "    last_login_time\n",
    "FROM \n",
    "    customers \n",
    "WHERE \n",
    "    last_login_time >= CURRENT_DATE - INTERVAL '7' DAY\n",
    "\"\"\"\n",
    "\n",
    "query_d = \"\"\"\n",
    "SELECT\n",
    "    customer_name,\n",
    "    create_date,\n",
    "    last_login_time\n",
    "FROM \n",
    "    customers \n",
    "WHERE \n",
    "    last_login_time BETWEEN (CURRENT_DATE - INTERVAL '7' DAY) AND NOW();\n",
    "\"\"\"\n",
    "compare_scores(query_a, query_b)\n",
    "compare_scores(query_a, query_c)\n",
    "compare_scores(query_a, query_d)\n",
    "compare_scores(query_b, query_c)\n",
    "compare_scores(query_b, query_d)\n",
    "compare_scores(query_c, query_d)"
   ]
  },
  {
   "cell_type": "code",
   "execution_count": 42,
   "id": "ae830ebd-3d45-4c91-a65d-06a23ff8e98b",
   "metadata": {},
   "outputs": [
    {
     "name": "stdout",
     "output_type": "stream",
     "text": [
      "cosine similarity score: 0.9536982178688049\n",
      "\n",
      "sequence matcher similarity score: 0.8790322580645161\n",
      "\n",
      "SQL AST metric score: 0.4444444444444444\n",
      "\n"
     ]
    }
   ],
   "source": [
    "query_a = \"\"\"\n",
    "SELECT\n",
    "    customer_name,\n",
    "    YEAR(create_date) as year,\n",
    "    DAY(last_login_time) as DAY\n",
    "FROM \n",
    "    customers \n",
    "\"\"\"\n",
    "\n",
    "query_b = \"\"\"\n",
    "SELECT\n",
    "    customer_name,\n",
    "    EXTRACT(YEAR FROM create_date) as year,\n",
    "    EXTRACT(DAY FROM last_login_time) as DAY\n",
    "FROM \n",
    "    customers \n",
    "\"\"\"\n",
    "compare_scores(query_a, query_b)"
   ]
  },
  {
   "cell_type": "markdown",
   "id": "24f25559-9bef-4c91-90f1-03ec47c02f2e",
   "metadata": {},
   "source": [
    "### regex and string function"
   ]
  },
  {
   "cell_type": "code",
   "execution_count": 47,
   "id": "d6f72ba0-8695-4541-a071-bddca1508ede",
   "metadata": {},
   "outputs": [
    {
     "name": "stdout",
     "output_type": "stream",
     "text": [
      "cosine similarity score: 0.8834095597267151\n",
      "\n",
      "sequence matcher similarity score: 0.5679611650485437\n",
      "\n",
      "SQL AST metric score: 0.3421052631578947\n",
      "\n"
     ]
    }
   ],
   "source": [
    "query_a = \"\"\"\n",
    "SELECT\n",
    "    LEFT(DeviceName, 7),\n",
    "    RIGHT(DeviceName, 3),\n",
    "    IpSource || '-' || IpTarget,\n",
    "    COUNT(*)\n",
    "FROM servers\n",
    "WHERE DeviceName Like '%HOME%' and IpSource != '172.16.14.16'\n",
    "\"\"\"\n",
    "query_b = \"\"\"\n",
    "SELECT\n",
    "    SUBSTRING(DeviceName, 1, 7),\n",
    "    SUBSTRING(DeviceName, LEN(DeviceName)-2, LEN(DeviceName)),\n",
    "    CONCAT(IpSource, '-', IpTarget),\n",
    "    COUNT(1),\n",
    "FROM servers\n",
    "WHERE DeviceName REGEXP '%HOME%' and IpSource <> '172.16.14.16'\n",
    "\"\"\"\n",
    "compare_scores(query_a, query_b)"
   ]
  },
  {
   "cell_type": "markdown",
   "id": "5f1141dd-ab21-4f82-8dd2-489f275f6f57",
   "metadata": {},
   "source": [
    "### Qualify versus Subquery versus CTE"
   ]
  },
  {
   "cell_type": "code",
   "execution_count": 48,
   "id": "e91267a9-b7ab-42f1-80cf-534d00572158",
   "metadata": {},
   "outputs": [
    {
     "name": "stdout",
     "output_type": "stream",
     "text": [
      "cosine similarity score: 0.7591825127601624\n",
      "\n",
      "sequence matcher similarity score: 0.3247863247863248\n",
      "\n",
      "SQL AST metric score: 0.34615384615384615\n",
      "\n",
      "cosine similarity score: 0.8407358527183533\n",
      "\n",
      "sequence matcher similarity score: 0.4618937644341801\n",
      "\n",
      "SQL AST metric score: 0.3382352941176471\n",
      "\n",
      "cosine similarity score: 0.9755663871765137\n",
      "\n",
      "sequence matcher similarity score: 0.7101200686106347\n",
      "\n",
      "SQL AST metric score: 0.8076923076923077\n",
      "\n"
     ]
    }
   ],
   "source": [
    "query_a = \"\"\"\n",
    "SELECT\n",
    "    USER_ID,\n",
    "    SIGN_UP_DATE,\n",
    "    STATE,\n",
    "    PURCHASE\n",
    "FROM \n",
    "    CUSTOMER_PURCHASES\n",
    "QUALIFY MAX(SIGN_UP_DATE) OVER (PARTITION BY STATE) = SIGN_UP_DATE\n",
    "\"\"\"\n",
    "\n",
    "query_b = \"\"\"\n",
    "WITH stateData As (\n",
    "    SELECT\n",
    "        USER_ID,\n",
    "        SIGN_UP_DATE,\n",
    "        STATE,\n",
    "        PURCHASE,\n",
    "        ROW_NUMBER() OVER (PARTITION BY STATE) as row_number\n",
    "    FROM\n",
    "        CUSTOMER_PURCHASES        \n",
    ")\n",
    "SELECT\n",
    "    USER_ID,\n",
    "    SIGN_UP_DATE,\n",
    "    STATE,\n",
    "    PURCHASE\n",
    "FROM stateData\n",
    "WHERE row_number = 1\n",
    "\"\"\"\n",
    "\n",
    "query_c = \"\"\"\n",
    "SELECT\n",
    "    USER_ID,\n",
    "    SIGN_UP_DATE,\n",
    "    STATE,\n",
    "    PURCHASE\n",
    "FROM (\n",
    "    SELECT\n",
    "        USER_ID,\n",
    "        SIGN_UP_DATE,\n",
    "        STATE,\n",
    "        PURCHASE,\n",
    "        ROW_NUMBER() OVER (PARTITION BY STATE) as row_number\n",
    "    FROM\n",
    "        CUSTOMER_PURCHASES\n",
    ") \n",
    "WHERE row_number = 1\n",
    "\"\"\"\n",
    "compare_scores(query_a, query_b)\n",
    "compare_scores(query_a, query_c)\n",
    "compare_scores(query_b, query_c)"
   ]
  }
 ],
 "metadata": {
  "kernelspec": {
   "display_name": "embedding_env",
   "language": "python",
   "name": "embedding_env"
  },
  "language_info": {
   "codemirror_mode": {
    "name": "ipython",
    "version": 3
   },
   "file_extension": ".py",
   "mimetype": "text/x-python",
   "name": "python",
   "nbconvert_exporter": "python",
   "pygments_lexer": "ipython3",
   "version": "3.12.0"
  }
 },
 "nbformat": 4,
 "nbformat_minor": 5
}
